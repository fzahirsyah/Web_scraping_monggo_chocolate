{
 "cells": [
  {
   "cell_type": "markdown",
   "metadata": {},
   "source": [
    "# WEB SCRAPING PRODUK MONGGO CHOCOLATE SHOPEE\n",
    "by FARHAN ZAHIRSYAH \n"
   ]
  },
  {
   "cell_type": "markdown",
   "metadata": {},
   "source": [
    "Web scraping (Turland, 2010) adalah proses pengambilan suatu dokumen semi-terstruktur dari internet, umumnya berupa halaman-halaman web dalam bahasa markup seperti HTML, atau XHTML, dan menganalis dokumen tersebut untuk diambil data dari halaman tersebut untuk digunakan bagi kepentingan lain. \n",
    "\n",
    "salah satu pengambilan dokumen dari internet adalah menggunakan API. Shopee merupakan marketplace yang besar di Indonesia. tentunya Shopee memiliki API sendiri untuk aplikasi websitenya. salah satu merchant official shoppee adalah Monggo Chocolate Jogja.\n",
    "\n",
    "saya akan mencoba melakukan scraping produk Monggo Chocolate Jogja menggunakan API\n",
    "\n"
   ]
  },
  {
   "cell_type": "markdown",
   "metadata": {},
   "source": [
    "# IMPORT PACKAGE"
   ]
  },
  {
   "cell_type": "code",
   "execution_count": 48,
   "metadata": {},
   "outputs": [],
   "source": [
    "import requests\n",
    "import json\n",
    "import pandas as pd"
   ]
  },
  {
   "cell_type": "code",
   "execution_count": 49,
   "metadata": {},
   "outputs": [
    {
     "name": "stdout",
     "output_type": "stream",
     "text": [
      "pandas version: 1.4.0 per february 2022\n",
      "requests version: 2.0.9 per February 2022\n",
      "requests version: 2.27.1 per february 2022\n"
     ]
    }
   ],
   "source": [
    "print('pandas version:', pd.__version__,'per february 2022')\n",
    "print('requests version:', json.__version__,'per February 2022')\n",
    "print('requests version:',requests.__version__,'per february 2022')"
   ]
  },
  {
   "cell_type": "markdown",
   "metadata": {},
   "source": [
    "# finding API  url"
   ]
  },
  {
   "cell_type": "code",
   "execution_count": 50,
   "metadata": {},
   "outputs": [],
   "source": [
    "url = 'https://shopee.co.id/api/v4/search/search_items?by=pop&limit=100&match_id=250317381&newest=0&order=desc&page_type=shop&scenario=PAGE_OTHERS&version=2'\n",
    "r = requests.get(url).json()\n"
   ]
  },
  {
   "cell_type": "markdown",
   "metadata": {},
   "source": [
    "# mengambil variabel di API"
   ]
  },
  {
   "cell_type": "code",
   "execution_count": 51,
   "metadata": {},
   "outputs": [],
   "source": [
    "name_list, price_list, historical_sold_list, liked_list, image_list  = [],[],[],[],[]\n",
    "for i in r['items']:\n",
    "    name_list.append(i['item_basic']['name'])\n",
    "    price_list.append(i['item_basic']['price'])\n",
    "    historical_sold_list.append(i['item_basic']['historical_sold'])\n",
    "    liked_list.append(i['item_basic']['liked_count'])\n",
    "    image_list.append(i['item_basic']['images'])"
   ]
  },
  {
   "cell_type": "markdown",
   "metadata": {},
   "source": [
    "# Memasukan data menjadi dictionary"
   ]
  },
  {
   "cell_type": "code",
   "execution_count": 52,
   "metadata": {},
   "outputs": [],
   "source": [
    "listCols = ['product_name','product_price','product_sold','product_liked','product_image']\n",
    "dict_data = dict(zip(listCols,\n",
    "                    (name_list,\n",
    "                    price_list,\n",
    "                    historical_sold_list,\n",
    "                    liked_list,\n",
    "                    image_list)\n",
    "                ))\n"
   ]
  },
  {
   "cell_type": "markdown",
   "metadata": {},
   "source": [
    "# Mengekspor data menjadi JSON"
   ]
  },
  {
   "cell_type": "code",
   "execution_count": 53,
   "metadata": {},
   "outputs": [],
   "source": [
    "with open('produk monggo chocolate.json','w') as fp:\n",
    "    json.dump(dict_data ,fp)"
   ]
  },
  {
   "cell_type": "markdown",
   "metadata": {},
   "source": [
    "# Mengekspor data menjadi CSV"
   ]
  },
  {
   "cell_type": "code",
   "execution_count": 54,
   "metadata": {},
   "outputs": [],
   "source": [
    "df = pd.DataFrame(data = dict_data)\n",
    "df.to_csv('produk monggo chocolate.csv',index=False)"
   ]
  }
 ],
 "metadata": {
  "interpreter": {
   "hash": "38740d3277777e2cd7c6c2cc9d8addf5118fdf3f82b1b39231fd12aeac8aee8b"
  },
  "kernelspec": {
   "display_name": "Python 3.10.2 64-bit",
   "language": "python",
   "name": "python3"
  },
  "language_info": {
   "codemirror_mode": {
    "name": "ipython",
    "version": 3
   },
   "file_extension": ".py",
   "mimetype": "text/x-python",
   "name": "python",
   "nbconvert_exporter": "python",
   "pygments_lexer": "ipython3",
   "version": "3.10.2"
  },
  "orig_nbformat": 4
 },
 "nbformat": 4,
 "nbformat_minor": 2
}
